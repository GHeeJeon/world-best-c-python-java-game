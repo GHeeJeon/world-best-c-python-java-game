{
 "cells": [
  {
   "cell_type": "code",
   "execution_count": 122,
   "id": "a5fa411b",
   "metadata": {},
   "outputs": [
    {
     "name": "stdout",
     "output_type": "stream",
     "text": [
      "중복발생  6 [6, 8, 2, 3, 9]\n",
      "[8, 2, 3, 9, 6]\n"
     ]
    }
   ],
   "source": [
    "import random\n",
    "\n",
    "samples = list(range(1, 10)) # 1~100까지, range 범위를 (1, 100) 으로 하면 1~99 까지가 된다.\n",
    "\n",
    "lotto = []\n",
    "i = 0\n",
    "while i < 6: # i = 0, 1, 2, 3, 4, 5 총 6번의 반복\n",
    "    \n",
    "    random.shuffle(samples) # 샘플코드\n",
    "    num_selected = samples[0] # 샘플코드\n",
    "    \n",
    "    j = 0\n",
    "    while j < len(lotto): # lotto 내에 num_selected 가 이미 있는지 체크\n",
    "        if num_selected == lotto[j]:\n",
    "            print(\"중복발생 \", num_selected, lotto)\n",
    "            lotto.remove(num_selected) # num_selected\n",
    "        j = j + 1;\n",
    "\n",
    "    print(lotto) # 샘플코드\n",
    "    lotto.append(num_selected) # 샘플코드\n",
    "    \n",
    "    i = i + 1\n",
    "\n",
    "print(lotto)"
   ]
  },
  {
   "cell_type": "code",
   "execution_count": 179,
   "id": "02219ea4",
   "metadata": {},
   "outputs": [
    {
     "name": "stdout",
     "output_type": "stream",
     "text": [
      "[88, 19, 78, 99, 41, 92]\n"
     ]
    }
   ],
   "source": [
    "import random\n",
    "\n",
    "def lotto(n):\n",
    "\n",
    "    samples = list(range(1, n)) # 1~(n-1)까지, 100 포함인지 아닌지 정확히 알아볼 것, 만약 100 포함이라면 (n+1) 을 해줄 것\n",
    "\n",
    "    lotto = []\n",
    "    i = 0\n",
    "    \n",
    "    while i < 6: # i = 0, 1, 2, 3, 4, 5 총 6번의 반복\n",
    "    \n",
    "        random.shuffle(samples) # 샘플코드\n",
    "        num_selected = samples[0] # 샘플코드\n",
    "    \n",
    "        j = 0\n",
    "        while j < len(lotto): # lotto 내에 num_selected 가 이미 있는지 체크 (num_selected=17 로 가정)\n",
    "            if num_selected == lotto[j]: # 랜덤으로 가져온 수가 (lotto 내에 있는) 17이라면,\n",
    "                # print(\"중복발생 \", num_selected, lotto)\n",
    "                lotto.remove(num_selected) # 17 이 이미 있으므로, lotto 내의 17을 지운다. 이따 17을 다시 추가해 줄 예정\n",
    "            j = j + 1;\n",
    "    \n",
    "        # print(lotto) # 샘플코드\n",
    "        lotto.append(num_selected) # 샘플코드 - 여기서! 아까 지웠던 17을 로또에 추가해준다.\n",
    "    \n",
    "        if i > len(lotto) - 1:\n",
    "            continue\n",
    "        else:\n",
    "            i = i + 1\n",
    "\n",
    "    print(lotto)\n",
    "    \n",
    "y = lotto(100)\n",
    "y"
   ]
  },
  {
   "cell_type": "code",
   "execution_count": null,
   "id": "0c61de31",
   "metadata": {},
   "outputs": [],
   "source": [
    "a = int(input())"
   ]
  }
 ],
 "metadata": {
  "kernelspec": {
   "display_name": "Python 3 (ipykernel)",
   "language": "python",
   "name": "python3"
  },
  "language_info": {
   "codemirror_mode": {
    "name": "ipython",
    "version": 3
   },
   "file_extension": ".py",
   "mimetype": "text/x-python",
   "name": "python",
   "nbconvert_exporter": "python",
   "pygments_lexer": "ipython3",
   "version": "3.9.14"
  }
 },
 "nbformat": 4,
 "nbformat_minor": 5
}
